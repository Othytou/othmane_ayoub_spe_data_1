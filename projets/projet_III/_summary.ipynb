{
 "cells": [
  {
   "cell_type": "markdown",
   "id": "206f5ccd",
   "metadata": {},
   "source": [
    "## Goal 1 : Visualizing highest recorded temperature per country on a map 🗺️\n",
    "***\n",
    "\n",
    "#### Data Scraping: weather records 🌡️ \n",
    "**(`0_scraping.ipynb`)**\n",
    "\n",
    "#### World map and highest temperatures 🎨 \n",
    "**(`1_plotting.ipynb`)**\n",
    "\n",
    "\n",
    "## Goal 2: Predicting of Future Global Climate 🌍\n",
    "***\n",
    "\n",
    "#### Predicting Yearly Land Average Temperature 📈 \n",
    "**(`2_modeling.ipynb`)**\n",
    "\n",
    "\n",
    "## Loading Data without manipulating files 📁\n",
    "***\n",
    "#### Load data from Github ⚙️ \n",
    "**(`3_utilities.ipynb`)**\n",
    "\n"
   ]
  },
  {
   "cell_type": "code",
   "execution_count": null,
   "id": "2efc5964",
   "metadata": {},
   "outputs": [],
   "source": []
  }
 ],
 "metadata": {
  "kernelspec": {
   "display_name": "Python 3 (ipykernel)",
   "language": "python",
   "name": "python3"
  },
  "language_info": {
   "codemirror_mode": {
    "name": "ipython",
    "version": 3
   },
   "file_extension": ".py",
   "mimetype": "text/x-python",
   "name": "python",
   "nbconvert_exporter": "python",
   "pygments_lexer": "ipython3",
   "version": "3.9.7"
  }
 },
 "nbformat": 4,
 "nbformat_minor": 5
}
