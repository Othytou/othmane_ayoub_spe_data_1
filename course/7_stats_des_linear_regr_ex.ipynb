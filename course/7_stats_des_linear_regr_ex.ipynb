{
 "cells": [
  {
   "cell_type": "code",
   "execution_count": 6,
   "id": "f546140b",
   "metadata": {},
   "outputs": [],
   "source": [
    "import pandas as pd\n",
    "import numpy as np\n",
    "import matplotlib.pyplot as plt"
   ]
  },
  {
   "cell_type": "markdown",
   "id": "28d5151b",
   "metadata": {},
   "source": [
    "# Exercices"
   ]
  },
  {
   "cell_type": "markdown",
   "id": "c6d4dce1",
   "metadata": {},
   "source": [
    "## 1. Manipulation en `pandas`\n",
    "\n",
    "Le fichier `worldcities` contient des informations au sujet de 42 905 villes.\n",
    "\n",
    "\n",
    "- 1. \n",
    " - a. Pour chaque pays, trouver la ville la plus peuplée. Afficher le résultat dans une `Serie` ayant en index le nom du pays.\n",
    " - b. Pour chaque pays, calculer le nombre de villes ayant une population supérieure à la moitié de la population de la ville la plus peuplée du pays.\n",
    " \n",
    "- 2. \n",
    " - a. Quel est le pays ayant le plus de valeurs manquantes pour la variable population ?\n",
    " - b. Quel est le pourcentage de lignes ayant au moins une valeur manquante ?\n",
    "\n",
    "\n",
    "- 3. \n",
    " - a. Observer l'output de la méthode `.describe` de `pandas`\n",
    " - b. Expliquer en Français en découpant en étapes simples, calculer la DataFrame qui est l'output de cette méthode\n",
    " - c. Faire de même en SQL\n",
    " - d. Écrire une fonction `describe` qui prend en argument une DataFrame et renvoie le même résultat que la méthode `describe`\n",
    "\n",
    "- 4. \n",
    " - a. À l'aide d'une recherche sur StackOverflow, écrire une fonction `distance_on_globe` qui prend en argument deux points sur le globe (ie deuxcouples de latitude longitude) et qui renvoie la distance en km entre ces deux points\n",
    " - b. Quelle est la distance moyenne entre Paris et les villes Allemandes ? \n",
    "\n",
    "- 5. \n",
    " - a. Créer une variable `population_group` qui correspond à un groupe de population  : \n",
    "     - entre 0 et 250_000 habitants\n",
    "     - entre 250_001 et 500_000 habitants\n",
    "     - ...\n",
    "     - entre 1_750_001 et 2_000_000 habitants\n",
    "     - Plus de 2_000_001 habitants\n",
    "    \n",
    " - b. Pour chaque pays, calculer le groupe qui compte le plus de villes\n",
    " \n",
    " \n",
    "- 6. \n",
    " - a. Créer une variable `population_group_2` qui correspond à un groupe de population : \n",
    "     - les 10% villes les moins peuplées\n",
    "     - les 10% suivant\n",
    "     - ...\n",
    "     - les 10% villes les plus peuplées \n",
    "(il y a 10 groupes)\n",
    " \n",
    " - b. Quelle est la population minimale des 10% villes les plus peuplées ?\n",
    " \n",
    " - c. Tracer un diagramme en baton avec en abscisse le numéro du groupe et en ordonnée la population minimale du groupe"
   ]
  },
  {
   "cell_type": "code",
   "execution_count": 7,
   "id": "2394cc95",
   "metadata": {},
   "outputs": [],
   "source": [
    "df = pd.read_csv(\"../data/simplemaps/worldcities.csv\")\n",
    "# df[[\"city\", \"population\"]]"
   ]
  },
  {
   "cell_type": "code",
   "execution_count": 8,
   "id": "9ddd486f",
   "metadata": {},
   "outputs": [],
   "source": [
    "import numpy as np\n",
    "import pandas as pd"
   ]
  },
  {
   "cell_type": "code",
   "execution_count": 9,
   "id": "fad928ae",
   "metadata": {},
   "outputs": [
    {
     "data": {
      "text/html": [
       "<div>\n",
       "<style scoped>\n",
       "    .dataframe tbody tr th:only-of-type {\n",
       "        vertical-align: middle;\n",
       "    }\n",
       "\n",
       "    .dataframe tbody tr th {\n",
       "        vertical-align: top;\n",
       "    }\n",
       "\n",
       "    .dataframe thead th {\n",
       "        text-align: right;\n",
       "    }\n",
       "</style>\n",
       "<table border=\"1\" class=\"dataframe\">\n",
       "  <thead>\n",
       "    <tr style=\"text-align: right;\">\n",
       "      <th></th>\n",
       "      <th>col1</th>\n",
       "      <th>col1_cut</th>\n",
       "    </tr>\n",
       "  </thead>\n",
       "  <tbody>\n",
       "    <tr>\n",
       "      <th>0</th>\n",
       "      <td>1</td>\n",
       "      <td>(0.994, 3.0]</td>\n",
       "    </tr>\n",
       "    <tr>\n",
       "      <th>1</th>\n",
       "      <td>7</td>\n",
       "      <td>(5.0, 7.0]</td>\n",
       "    </tr>\n",
       "    <tr>\n",
       "      <th>2</th>\n",
       "      <td>5</td>\n",
       "      <td>(3.0, 5.0]</td>\n",
       "    </tr>\n",
       "    <tr>\n",
       "      <th>3</th>\n",
       "      <td>4</td>\n",
       "      <td>(3.0, 5.0]</td>\n",
       "    </tr>\n",
       "    <tr>\n",
       "      <th>4</th>\n",
       "      <td>6</td>\n",
       "      <td>(5.0, 7.0]</td>\n",
       "    </tr>\n",
       "    <tr>\n",
       "      <th>5</th>\n",
       "      <td>3</td>\n",
       "      <td>(0.994, 3.0]</td>\n",
       "    </tr>\n",
       "  </tbody>\n",
       "</table>\n",
       "</div>"
      ],
      "text/plain": [
       "   col1      col1_cut\n",
       "0     1  (0.994, 3.0]\n",
       "1     7    (5.0, 7.0]\n",
       "2     5    (3.0, 5.0]\n",
       "3     4    (3.0, 5.0]\n",
       "4     6    (5.0, 7.0]\n",
       "5     3  (0.994, 3.0]"
      ]
     },
     "execution_count": 9,
     "metadata": {},
     "output_type": "execute_result"
    }
   ],
   "source": [
    "df = pd.DataFrame({\"col1\": np.array([1, 7, 5, 4, 6, 3])})\n",
    "df[\"col1_cut\"] = pd.cut(df.col1, 3)\n",
    "df"
   ]
  },
  {
   "cell_type": "markdown",
   "id": "18596726",
   "metadata": {},
   "source": [
    "### Question 1.a."
   ]
  },
  {
   "cell_type": "markdown",
   "id": "6115af41",
   "metadata": {},
   "source": [
    "### Question 1.b"
   ]
  },
  {
   "cell_type": "markdown",
   "id": "c7d082d5",
   "metadata": {},
   "source": [
    "### Question 2.b"
   ]
  },
  {
   "cell_type": "markdown",
   "id": "2036b871",
   "metadata": {},
   "source": [
    "### Question 3.\n",
    "- `.describe` renvoie des statistiques (**uniquement**) pour les variables quantitatives\n",
    "    - `count` : le nombre de valeurs non nulles\n",
    "    - `mean` : la moyenne des valeurs non nulles \n",
    "    - `std` : l'écart type (standard deviation) des valeurs non nulles\n",
    "    - `min` : le min des valeurs non nulles\n",
    "    - `25%` : le premier quartile des valeurs non nulles\n",
    "    - `50%` : le deuxieme quartile des valeurs non nulles\n",
    "    - `75%` : le troisieme quartile des valeurs non nulles\n",
    "    - `max` : le min des valeurs non nulles\n"
   ]
  },
  {
   "cell_type": "markdown",
   "id": "cd051211",
   "metadata": {},
   "source": [
    "### Question 4\n",
    "- from : https://stackoverflow.com/questions/19412462/getting-distance-between-two-points-based-on-latitude-longitude"
   ]
  },
  {
   "cell_type": "markdown",
   "id": "82faf987",
   "metadata": {},
   "source": [
    "### Question 5.a & 6.a"
   ]
  },
  {
   "cell_type": "markdown",
   "id": "532c51b6",
   "metadata": {},
   "source": [
    "## 2. Régression linéaire simple : comparaison\n",
    "L'objectif est de comparer trois implémentations de la régression linéaire : \n",
    "- une en utilisant `sklearn` \n",
    "- une en utilisant `statsmodels` \n",
    "- l'une en calculant les coefficients \"à la main\" \n",
    "\n",
    "\n",
    "On a généré ci-dessous un nuage de points, on a représenté $Y$ en fonction de $X$.\n",
    "\n",
    "L'objectif de la régression linéaire simple sans intercepte est de trouver deux coefficients $a$ et $b$ tels que :\n",
    "\n",
    "$$Y = ax  + err$$\n",
    "\n",
    "\n",
    "L'objectif de la régression linéaire simple avec intercepte est de trouver deux coefficients $a$ et $b$ tels que :\n",
    "\n",
    "$$ Y = ax + b + err $$\n",
    "\n",
    "\n",
    "#### Faire ces 4 questions avec les deux spécifications de modèle ($Y = ax + b + err$ et $Y = ax  + err$): \n",
    "\n",
    "\n",
    "\n",
    "- On pourra utiliser l'argument `fit_intercept` pour la `LinearRegression` de `scikit-learn` \n",
    "- On pourra regarder la documentation de [OLS](https://www.statsmodels.org/dev/generated/statsmodels.regression.linear_model.OLS.html) pour `statsmodels` \n",
    "\n",
    "\n",
    "1. Entraîner un modèle de régression linéaire entre $x$ et $y$ avec `scikit-learn`\n",
    "2. Entraîner un modèle de régression linéaire entre $x$ et $y$ avec `statsmodels` (on pourra s'aider de StackoVerflow)\n",
    "3. Entraîner un modèle de régression linéaire entre $x$ et $y$ en remarquant que le coefficient $a$ est égale à $\\frac{Cov(X, Y)}{Var(X}$ (on pourra chercher comment calculer la covariance et la variance en `pandas` ou `numpy`).\n",
    "4. Créer une colonne `y_pred` qui contient les prédictions pour toutes les données à disposition"
   ]
  },
  {
   "cell_type": "code",
   "execution_count": 5,
   "id": "cd20c7ee",
   "metadata": {},
   "outputs": [
    {
     "data": {
      "text/plain": [
       "<matplotlib.collections.PathCollection at 0x11755ff10>"
      ]
     },
     "execution_count": 5,
     "metadata": {},
     "output_type": "execute_result"
    },
    {
     "data": {
      "image/png": "[encoded data removed]",
      "text/plain": [
       "<Figure size 720x288 with 1 Axes>"
      ]
     },
     "metadata": {
      "needs_background": "light"
     },
     "output_type": "display_data"
    }
   ],
   "source": [
    "import numpy as np\n",
    "import matplotlib.pyplot as plt\n",
    "\n",
    "\n",
    "N_OBS = 1000\n",
    "A = 4\n",
    "B = 12\n",
    "\n",
    "x = np.random.randn(1000)  # 4 lignes, 2 colonnes\n",
    "errors = np.random.randn(1000) \n",
    "y = A*x + B + errors\n",
    "\n",
    "plt.figure(figsize=(10, 4))\n",
    "plt.scatter(x, y)\n",
    "plt.scatter(x, A*x + B, color=\"red\")"
   ]
  },
  {
   "cell_type": "code",
   "execution_count": null,
   "id": "5310f90f",
   "metadata": {},
   "outputs": [],
   "source": []
  },
  {
   "cell_type": "code",
   "execution_count": null,
   "id": "356a8ebb",
   "metadata": {},
   "outputs": [],
   "source": []
  }
 ],
 "metadata": {
  "kernelspec": {
   "display_name": "env-dba",
   "language": "python",
   "name": "env-dba"
  },
  "language_info": {
   "codemirror_mode": {
    "name": "ipython",
    "version": 3
   },
   "file_extension": ".py",
   "mimetype": "text/x-python",
   "name": "python",
   "nbconvert_exporter": "python",
   "pygments_lexer": "ipython3",
   "version": "3.9.13"
  }
 },
 "nbformat": 4,
 "nbformat_minor": 5
}
