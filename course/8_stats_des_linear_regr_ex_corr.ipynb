{
 "cells": [
  {
   "cell_type": "code",
   "execution_count": 1,
   "id": "f37d96e2",
   "metadata": {},
   "outputs": [
    {
     "name": "stdout",
     "output_type": "stream",
     "text": [
      "sys.version_info(major=3, minor=11, micro=4, releaselevel='final', serial=0)\n"
     ]
    }
   ],
   "source": [
    "import sys\n",
    "print(sys.version_info)"
   ]
  },
  {
   "cell_type": "code",
   "execution_count": 2,
   "id": "4cf7ce7b",
   "metadata": {},
   "outputs": [],
   "source": [
    "import pandas as pd\n",
    "import numpy as np\n",
    "import matplotlib.pyplot as plt"
   ]
  },
  {
   "cell_type": "markdown",
   "id": "6d63c7e9",
   "metadata": {},
   "source": [
    "# Exercices"
   ]
  },
  {
   "cell_type": "markdown",
   "id": "3cc5c49c",
   "metadata": {},
   "source": [
    "## 1. Manipulation en `pandas`\n",
    "\n",
    "Le fichier `worldcities` contient des informations au sujet de 42 905 villes.\n",
    "\n",
    "\n",
    "- 1. \n",
    " - a. Pour chaque pays, trouver la ville la plus peuplée. Afficher le résultat dans une `Serie` ayant en index le nom du pays.\n",
    " - b. Pour chaque pays, calculer le nombre de villes ayant une population supérieure à la moitié de la population de la ville la plus peuplée du pays.\n",
    " \n",
    "- 2. \n",
    " - a. Quel est le pays ayant le plus de valeurs manquantes pour la variable population ?\n",
    " - b. Quel est le pourcentage de lignes ayant au moins une valeur manquante ?\n",
    "\n",
    "\n",
    "- 3. \n",
    " - a. Observer l'output de la méthode `.describe` de `pandas`\n",
    " - b. Expliquer en Français en découpant en étapes simples, calculer la DataFrame qui est l'output de cette méthode\n",
    " - c. Faire de même en SQL\n",
    " - d. Écrire une fonction `describe` qui prend en argument une DataFrame et renvoie le même résultat que la méthode `describe`\n",
    "\n",
    "- 4. \n",
    " - a. À l'aide d'une recherche sur StackOverflow, écrire une fonction `distance_on_globe` qui prend en argument deux points sur le globe (ie deuxcouples de latitude longitude) et qui renvoie la distance en km entre ces deux points\n",
    " - b. Quelle est la distance moyenne entre Paris et les villes Allemandes ? \n",
    "\n",
    "- 5. \n",
    " - a. Créer une variable `population_group` qui correspond à un groupe de population  : \n",
    "     - entre 0 et 250_000 habitants\n",
    "     - entre 250_001 et 500_000 habitants\n",
    "     - ...\n",
    "     - entre 1_750_001 et 2_000_000 habitants\n",
    "     - Plus de 2_000_001 habitants\n",
    "    \n",
    " - b. Pour chaque pays, calculer le groupe qui compte le plus de villes\n",
    " \n",
    " \n",
    "- 6. \n",
    " - a. Créer une variable `population_group_2` qui correspond à un groupe de population : \n",
    "     - les 10% villes les moins peuplées\n",
    "     - les 10% suivant\n",
    "     - ...\n",
    "     - les 10% villes les plus peuplées \n",
    "(il y a 10 groupes)\n",
    " \n",
    " - b. Quelle est la population minimale des 10% villes les plus peuplées ?\n",
    " \n",
    " - c. Tracer un diagramme en baton avec en abscisse le numéro du groupe et en ordonnée la population minimale du groupe"
   ]
  },
  {
   "cell_type": "code",
   "execution_count": 28,
   "id": "d981f2c7",
   "metadata": {},
   "outputs": [],
   "source": [
    "df = pd.read_csv(\"../data/simplemaps/worldcities.csv\")\n",
    "# df[[\"city\", \"population\"]]"
   ]
  },
  {
   "cell_type": "code",
   "execution_count": 29,
   "id": "484ff5f6",
   "metadata": {},
   "outputs": [
    {
     "data": {
      "text/plain": [
       "'Paris'"
      ]
     },
     "execution_count": 29,
     "metadata": {},
     "output_type": "execute_result"
    }
   ],
   "source": [
    "df.groupby('country').first()['city'].loc['France']"
   ]
  },
  {
   "cell_type": "markdown",
   "id": "48950c78",
   "metadata": {},
   "source": [
    "### Question 1.a."
   ]
  },
  {
   "cell_type": "code",
   "execution_count": 30,
   "id": "13972170",
   "metadata": {},
   "outputs": [
    {
     "name": "stderr",
     "output_type": "stream",
     "text": [
      "/var/folders/yf/7zryq8v115v8hjpz3_522bvm0000gn/T/ipykernel_16790/32287963.py:10: RuntimeWarning: Mean of empty slice\n",
      "  ccp[\"mean_population\"] = ccp[\"population\"].map(lambda l: np.nanmean(l))\n"
     ]
    },
    {
     "data": {
      "text/html": [
       "<div>\n",
       "<style scoped>\n",
       "    .dataframe tbody tr th:only-of-type {\n",
       "        vertical-align: middle;\n",
       "    }\n",
       "\n",
       "    .dataframe tbody tr th {\n",
       "        vertical-align: top;\n",
       "    }\n",
       "\n",
       "    .dataframe thead th {\n",
       "        text-align: right;\n",
       "    }\n",
       "</style>\n",
       "<table border=\"1\" class=\"dataframe\">\n",
       "  <thead>\n",
       "    <tr style=\"text-align: right;\">\n",
       "      <th></th>\n",
       "      <th>city</th>\n",
       "      <th>population</th>\n",
       "      <th>mean_population</th>\n",
       "    </tr>\n",
       "    <tr>\n",
       "      <th>country</th>\n",
       "      <th></th>\n",
       "      <th></th>\n",
       "      <th></th>\n",
       "    </tr>\n",
       "  </thead>\n",
       "  <tbody>\n",
       "    <tr>\n",
       "      <th>Afghanistan</th>\n",
       "      <td>[Kabul, Kandahār, Herāt, Mazār-e Sharīf, Jalāl...</td>\n",
       "      <td>[4273156.0, 614254.0, 556205.0, 469247.0, 2633...</td>\n",
       "      <td>214890.825000</td>\n",
       "    </tr>\n",
       "    <tr>\n",
       "      <th>Albania</th>\n",
       "      <td>[Tirana, Vlorë, Kamëz, Fier, Durrës, Shkodër, ...</td>\n",
       "      <td>[418495.0, 130827.0, 126777.0, 120655.0, 11324...</td>\n",
       "      <td>32773.215686</td>\n",
       "    </tr>\n",
       "    <tr>\n",
       "      <th>Algeria</th>\n",
       "      <td>[Algiers, Oran, Constantine, Blida, Batna, Sét...</td>\n",
       "      <td>[3415811.0, 852000.0, 448374.0, 331779.0, 2906...</td>\n",
       "      <td>88606.736842</td>\n",
       "    </tr>\n",
       "    <tr>\n",
       "      <th>American Samoa</th>\n",
       "      <td>[Pago Pago]</td>\n",
       "      <td>[12576.0]</td>\n",
       "      <td>12576.000000</td>\n",
       "    </tr>\n",
       "    <tr>\n",
       "      <th>Andorra</th>\n",
       "      <td>[Andorra la Vella, Escaldes-Engordany, Encamp,...</td>\n",
       "      <td>[22615.0, 14521.0, 12338.0, 10076.0, 9156.0, 4...</td>\n",
       "      <td>11050.571429</td>\n",
       "    </tr>\n",
       "    <tr>\n",
       "      <th>...</th>\n",
       "      <td>...</td>\n",
       "      <td>...</td>\n",
       "      <td>...</td>\n",
       "    </tr>\n",
       "    <tr>\n",
       "      <th>Wallis And Futuna</th>\n",
       "      <td>[Mata-Utu, Leava]</td>\n",
       "      <td>[nan, nan]</td>\n",
       "      <td>NaN</td>\n",
       "    </tr>\n",
       "    <tr>\n",
       "      <th>West Bank</th>\n",
       "      <td>[Al Quds]</td>\n",
       "      <td>[nan]</td>\n",
       "      <td>NaN</td>\n",
       "    </tr>\n",
       "    <tr>\n",
       "      <th>Yemen</th>\n",
       "      <td>[Sanaa, Ta‘izz, Al Ḩudaydah, Aden, Ibb, Ibb, D...</td>\n",
       "      <td>[2957000.0, 615467.0, 548433.0, 507355.0, 3508...</td>\n",
       "      <td>174713.842105</td>\n",
       "    </tr>\n",
       "    <tr>\n",
       "      <th>Zambia</th>\n",
       "      <td>[Lusaka, Ndola, Kitwe, Mazabuka, Kasama, Kashi...</td>\n",
       "      <td>[1742979.0, 528330.0, 504194.0, 203219.0, 2000...</td>\n",
       "      <td>139541.400000</td>\n",
       "    </tr>\n",
       "    <tr>\n",
       "      <th>Zimbabwe</th>\n",
       "      <td>[Harare, Bulawayo, Chitungwiza, Mutare, Gweru,...</td>\n",
       "      <td>[2150000.0, 653337.0, 340360.0, 188243.0, 1412...</td>\n",
       "      <td>168197.400000</td>\n",
       "    </tr>\n",
       "  </tbody>\n",
       "</table>\n",
       "<p>239 rows × 3 columns</p>\n",
       "</div>"
      ],
      "text/plain": [
       "                                                                city  \\\n",
       "country                                                                \n",
       "Afghanistan        [Kabul, Kandahār, Herāt, Mazār-e Sharīf, Jalāl...   \n",
       "Albania            [Tirana, Vlorë, Kamëz, Fier, Durrës, Shkodër, ...   \n",
       "Algeria            [Algiers, Oran, Constantine, Blida, Batna, Sét...   \n",
       "American Samoa                                           [Pago Pago]   \n",
       "Andorra            [Andorra la Vella, Escaldes-Engordany, Encamp,...   \n",
       "...                                                              ...   \n",
       "Wallis And Futuna                                  [Mata-Utu, Leava]   \n",
       "West Bank                                                  [Al Quds]   \n",
       "Yemen              [Sanaa, Ta‘izz, Al Ḩudaydah, Aden, Ibb, Ibb, D...   \n",
       "Zambia             [Lusaka, Ndola, Kitwe, Mazabuka, Kasama, Kashi...   \n",
       "Zimbabwe           [Harare, Bulawayo, Chitungwiza, Mutare, Gweru,...   \n",
       "\n",
       "                                                          population  \\\n",
       "country                                                                \n",
       "Afghanistan        [4273156.0, 614254.0, 556205.0, 469247.0, 2633...   \n",
       "Albania            [418495.0, 130827.0, 126777.0, 120655.0, 11324...   \n",
       "Algeria            [3415811.0, 852000.0, 448374.0, 331779.0, 2906...   \n",
       "American Samoa                                             [12576.0]   \n",
       "Andorra            [22615.0, 14521.0, 12338.0, 10076.0, 9156.0, 4...   \n",
       "...                                                              ...   \n",
       "Wallis And Futuna                                         [nan, nan]   \n",
       "West Bank                                                      [nan]   \n",
       "Yemen              [2957000.0, 615467.0, 548433.0, 507355.0, 3508...   \n",
       "Zambia             [1742979.0, 528330.0, 504194.0, 203219.0, 2000...   \n",
       "Zimbabwe           [2150000.0, 653337.0, 340360.0, 188243.0, 1412...   \n",
       "\n",
       "                   mean_population  \n",
       "country                             \n",
       "Afghanistan          214890.825000  \n",
       "Albania               32773.215686  \n",
       "Algeria               88606.736842  \n",
       "American Samoa        12576.000000  \n",
       "Andorra               11050.571429  \n",
       "...                            ...  \n",
       "Wallis And Futuna              NaN  \n",
       "West Bank                      NaN  \n",
       "Yemen                174713.842105  \n",
       "Zambia               139541.400000  \n",
       "Zimbabwe             168197.400000  \n",
       "\n",
       "[239 rows x 3 columns]"
      ]
     },
     "execution_count": 30,
     "metadata": {},
     "output_type": "execute_result"
    }
   ],
   "source": [
    "# Méthode 1\n",
    "# On trie par population \n",
    "# pour ensuite sélectionner la première ville pour chaque pays\n",
    "df.sort_values('population', ascending=False).groupby('country').first()['city']\n",
    "\n",
    "# Méthode 2\n",
    "# On peut aussi chercher l'index max de chaque liste de la variable population\n",
    "# et renvoie la valeur à cette index dans la liste de la variable city\n",
    "ccp = df.groupby([\"country\"])[[\"city\", \"population\"]].agg(list)\n",
    "ccp[\"mean_population\"] = ccp[\"population\"].map(lambda l: np.nanmean(l))\n",
    "\n",
    "# On sélectionne pour chaque pays, les villes avec\n",
    "# une population supérieure à 75 % de la moyenne\n",
    "population_above_75_percent_of_mean = ccp.apply(\n",
    "    lambda r: [\n",
    "        c \n",
    "        for c,p in zip(r.city, r.population) if p > 0.75 * r.mean_population],\n",
    "    axis=1\n",
    ")\n",
    "population_above_75_percent_of_mean\n",
    "\n",
    "ccp"
   ]
  },
  {
   "cell_type": "markdown",
   "id": "7498e573",
   "metadata": {},
   "source": [
    "### Question 1.b"
   ]
  },
  {
   "cell_type": "code",
   "execution_count": 31,
   "id": "9009a6b6",
   "metadata": {},
   "outputs": [
    {
     "name": "stdout",
     "output_type": "stream",
     "text": [
      "[39105000.]\n"
     ]
    },
    {
     "data": {
      "text/plain": [
       "country\n",
       "Malta            8\n",
       "China            6\n",
       "Liechtenstein    6\n",
       "Taiwan           5\n",
       "Kosovo           5\n",
       "                ..\n",
       "Indonesia        1\n",
       "Iran             1\n",
       "Iraq             1\n",
       "Ireland          1\n",
       "Zimbabwe         1\n",
       "Length: 224, dtype: int64"
      ]
     },
     "execution_count": 31,
     "metadata": {},
     "output_type": "execute_result"
    }
   ],
   "source": [
    "max_population_in_country = df.sort_values(\"population\", ascending=False).groupby(\"country\").first()[\"population\"]\n",
    "df[\"max_population_in_country\"] = df.country.map(max_population_in_country)\n",
    "\n",
    "# Tout le temps la valeur de Tokyo : environ 40M d'habitants\n",
    "print(df[df.country==\"Japan\"].max_population_in_country.unique())\n",
    "\n",
    "# On garde les lignes (donc les villes) qui ont une valeur de population\n",
    "# Supérieur à la population max dans une ville du pays divisée par 2\n",
    "subset = df[df[\"population\"] > (df[\"max_population_in_country\"] / 2)]\n",
    "\n",
    "# Aucune valeurs manquantes\n",
    "assert (~df.country.isnull()).sum() == len(df)\n",
    "\n",
    "subset.groupby(\"country\").size().sort_values(ascending=False)"
   ]
  },
  {
   "cell_type": "markdown",
   "id": "0a680928",
   "metadata": {},
   "source": [
    "### Question 2.a\n",
    "- Slovénie avec 140 valeurs nulles"
   ]
  },
  {
   "cell_type": "code",
   "execution_count": 32,
   "id": "a9760f5a",
   "metadata": {},
   "outputs": [
    {
     "data": {
      "text/plain": [
       "country\n",
       "Slovenia    140\n",
       "Name: is_population_null, dtype: int64"
      ]
     },
     "execution_count": 32,
     "metadata": {},
     "output_type": "execute_result"
    }
   ],
   "source": [
    "# On crée 'un mask' dans une nouvelle volonne\n",
    "df[\"is_population_null\"] =  df.population.isnull()\n",
    "df.groupby(\"country\").is_population_null.sum().sort_values(ascending=False).head(1)"
   ]
  },
  {
   "cell_type": "markdown",
   "id": "308bb1aa",
   "metadata": {},
   "source": [
    "### Question 2.b"
   ]
  },
  {
   "cell_type": "code",
   "execution_count": 33,
   "id": "209c7f83",
   "metadata": {},
   "outputs": [
    {
     "name": "stdout",
     "output_type": "stream",
     "text": [
      "Il y a 78.94% des lignes qui ont au moins une valeur manquante\n",
      "True\n",
      "True\n",
      "True\n",
      "True\n"
     ]
    }
   ],
   "source": [
    "# Qui vaut True si au moins une valeurs nulles\n",
    "df[\"has_any_null\"] = df.isnull().any(axis=1)\n",
    "\n",
    "percent = round(100 * df[\"has_any_null\"].sum() / (df.shape[0]), 2)\n",
    "print(f'Il y a {percent}% des lignes qui ont au moins une valeur manquante')\n",
    "\n",
    "# Note : les colonnes et les lignes sont des séries\n",
    "# avec axis, on change le sens dans lequel on fait une opération vectorisée\n",
    "\n",
    "\n",
    "# Explications any & all\n",
    "\n",
    "# Any & All en Pandas\n",
    "all_pandas = pd.Series([True, True, True]).all()\n",
    "print(all_pandas)\n",
    "any_pandas = pd.Series([True, False, False]).any()\n",
    "print(any_pandas)\n",
    "\n",
    "# Any & All en Python\n",
    "all_python = all([True, True, True])\n",
    "print(all_python)\n",
    "any_python = any([True, False, True])\n",
    "print(any_python)"
   ]
  },
  {
   "cell_type": "markdown",
   "id": "b424439b",
   "metadata": {},
   "source": [
    "### Question 3.\n",
    "- `.describe` renvoie des statistiques (**uniquement**) pour les variables quantitatives\n",
    "    - `count` : le nombre de valeurs non nulles\n",
    "    - `mean` : la moyenne des valeurs non nulles \n",
    "    - `std` : l'écart type (standard deviation) des valeurs non nulles\n",
    "    - `min` : le min des valeurs non nulles\n",
    "    - `25%` : le premier quartile des valeurs non nulles\n",
    "    - `50%` : le deuxieme quartile des valeurs non nulles\n",
    "    - `75%` : le troisieme quartile des valeurs non nulles\n",
    "    - `max` : le min des valeurs non nulles\n"
   ]
  },
  {
   "cell_type": "code",
   "execution_count": 34,
   "id": "47184fc0",
   "metadata": {},
   "outputs": [
    {
     "name": "stdout",
     "output_type": "stream",
     "text": [
      "10.0\n",
      "10.0\n"
     ]
    },
    {
     "data": {
      "text/plain": [
       "10.0"
      ]
     },
     "execution_count": 34,
     "metadata": {},
     "output_type": "execute_result"
    }
   ],
   "source": [
    "# COMPRENDRE np.mean, np.nanmean, et .mean\n",
    "\n",
    "l = [0, 10, 20] # la moyenne 10\n",
    "l_with_nan = [0, 10, 20, np.nan] # la moyenne doit être 10 ! (on exclut au numérateur et au dénominateur les np.nan)\n",
    "print(np.mean(l))\n",
    "print(np.nanmean(l_with_nan))\n",
    "\n",
    "pd.Series(l).mean()\n",
    "pd.Series(l_with_nan).mean()  # calcule dirrectement avec np.nanmean"
   ]
  },
  {
   "cell_type": "code",
   "execution_count": 35,
   "id": "a4f49119",
   "metadata": {},
   "outputs": [
    {
     "data": {
      "text/html": [
       "<div>\n",
       "<style scoped>\n",
       "    .dataframe tbody tr th:only-of-type {\n",
       "        vertical-align: middle;\n",
       "    }\n",
       "\n",
       "    .dataframe tbody tr th {\n",
       "        vertical-align: top;\n",
       "    }\n",
       "\n",
       "    .dataframe thead th {\n",
       "        text-align: right;\n",
       "    }\n",
       "</style>\n",
       "<table border=\"1\" class=\"dataframe\">\n",
       "  <thead>\n",
       "    <tr style=\"text-align: right;\">\n",
       "      <th></th>\n",
       "      <th>lat</th>\n",
       "      <th>lng</th>\n",
       "      <th>population</th>\n",
       "      <th>id</th>\n",
       "    </tr>\n",
       "  </thead>\n",
       "  <tbody>\n",
       "    <tr>\n",
       "      <th>count</th>\n",
       "      <td>0.000000</td>\n",
       "      <td>0.000000</td>\n",
       "      <td>0.000000</td>\n",
       "      <td>0.000000</td>\n",
       "    </tr>\n",
       "    <tr>\n",
       "      <th>mean</th>\n",
       "      <td>0.000000</td>\n",
       "      <td>0.000000</td>\n",
       "      <td>0.000000</td>\n",
       "      <td>0.000000</td>\n",
       "    </tr>\n",
       "    <tr>\n",
       "      <th>std</th>\n",
       "      <td>-0.001165</td>\n",
       "      <td>-0.001165</td>\n",
       "      <td>-0.001185</td>\n",
       "      <td>-0.001165</td>\n",
       "    </tr>\n",
       "    <tr>\n",
       "      <th>min</th>\n",
       "      <td>-0.000000</td>\n",
       "      <td>-0.000000</td>\n",
       "      <td>NaN</td>\n",
       "      <td>0.000000</td>\n",
       "    </tr>\n",
       "    <tr>\n",
       "      <th>25%</th>\n",
       "      <td>0.000000</td>\n",
       "      <td>-0.000000</td>\n",
       "      <td>0.000000</td>\n",
       "      <td>0.000000</td>\n",
       "    </tr>\n",
       "    <tr>\n",
       "      <th>50%</th>\n",
       "      <td>0.000000</td>\n",
       "      <td>0.000000</td>\n",
       "      <td>0.000000</td>\n",
       "      <td>0.000000</td>\n",
       "    </tr>\n",
       "    <tr>\n",
       "      <th>75%</th>\n",
       "      <td>0.000000</td>\n",
       "      <td>0.000000</td>\n",
       "      <td>0.000000</td>\n",
       "      <td>0.000000</td>\n",
       "    </tr>\n",
       "    <tr>\n",
       "      <th>max</th>\n",
       "      <td>0.000000</td>\n",
       "      <td>0.000000</td>\n",
       "      <td>0.000000</td>\n",
       "      <td>0.000000</td>\n",
       "    </tr>\n",
       "  </tbody>\n",
       "</table>\n",
       "</div>"
      ],
      "text/plain": [
       "            lat       lng  population        id\n",
       "count  0.000000  0.000000    0.000000  0.000000\n",
       "mean   0.000000  0.000000    0.000000  0.000000\n",
       "std   -0.001165 -0.001165   -0.001185 -0.001165\n",
       "min   -0.000000 -0.000000         NaN  0.000000\n",
       "25%    0.000000 -0.000000    0.000000  0.000000\n",
       "50%    0.000000  0.000000    0.000000  0.000000\n",
       "75%    0.000000  0.000000    0.000000  0.000000\n",
       "max    0.000000  0.000000    0.000000  0.000000"
      ]
     },
     "execution_count": 35,
     "metadata": {},
     "output_type": "execute_result"
    }
   ],
   "source": [
    "df = pd.read_csv(\"../data/simplemaps/worldcities.csv\")\n",
    "df.describe()\n",
    "\n",
    "# EN SQL : \n",
    "## pour les colonnes INTEGER, FLOAT ...\n",
    "## on calculerait COUNT(*), MEAN(*) etc...\n",
    "\n",
    "def describe_not_pandaesque(df):\n",
    "    \n",
    "    # Filtrer pour ne garder que les variables quantitatives\n",
    "    df = df.select_dtypes(include=np.number)\n",
    "    \n",
    "    # Itérer sur les fonctions statistiques\n",
    "    stat_funcs = {\n",
    "        # count : la longueur de la liste qui contient les valeurs non nulles\n",
    "        \"count\": lambda s: len([value for value in s if not np.isnan(value)]),\n",
    "        # La moyenne\n",
    "        \"mean\": np.nanmean,\n",
    "        # Ecart type\n",
    "        \"std\": np.nanstd,\n",
    "        # Min\n",
    "        \"min\": np.nanmin,\n",
    "        # Percentile 25\n",
    "        \"25%\": lambda s: np.nanpercentile(s, 25),\n",
    "        # Percentile 50\n",
    "        \"50%\": lambda s: np.nanpercentile(s, 50),\n",
    "        # Percentile 75\n",
    "        \"75%\": lambda s: np.nanpercentile(s, 75),   \n",
    "        # Max\n",
    "        \"max\": np.nanmax\n",
    "    }\n",
    "    \n",
    "    # Calcule des statistics\n",
    "    statistics = []\n",
    "    for func in stat_funcs.values() :\n",
    "        row = []\n",
    "        # Calculer chacune des lignes (en itérant sur les variables) et la stocker dans une liste\n",
    "        for variable in df.columns:\n",
    "            stat = func(df[variable])\n",
    "            row.append(stat)\n",
    "        statistics.append(row)\n",
    "        \n",
    "    # Créer une DataFrame à partir de ces données\n",
    "    # Spécifier les bons noms de colonnes et d'index\n",
    "    statistics = pd.DataFrame(\n",
    "        statistics,\n",
    "        index=stat_funcs.keys(),\n",
    "        columns=df.columns   \n",
    "    )\n",
    "    return statistics\n",
    "\n",
    "\n",
    "def describe_pandaesque(df):\n",
    "    pass\n",
    "\n",
    "df_describe = describe_not_pandaesque(df)\n",
    "# Variation relative = (exp - th) / th\n",
    "# experimentale = la nôtre df_describe\n",
    "# théorique = celle de pandas\n",
    "\n",
    "# Toutes les valeurs ont 0% d'écart \n",
    "# sauf les écart types qui ont autour de 0.0012 % d'écart\n",
    "100 * (df_describe - df.describe()) / df.describe()"
   ]
  },
  {
   "cell_type": "markdown",
   "id": "d6c61e9d",
   "metadata": {},
   "source": [
    "### Question 4\n",
    "- from : https://stackoverflow.com/questions/19412462/getting-distance-between-two-points-based-on-latitude-longitude"
   ]
  },
  {
   "cell_type": "code",
   "execution_count": 36,
   "id": "273f2952",
   "metadata": {},
   "outputs": [
    {
     "name": "stdout",
     "output_type": "stream",
     "text": [
      "Distance Paris à Marseille: 660.7 km\n"
     ]
    }
   ],
   "source": [
    "from math import sin, cos, sqrt, atan2,  pi\n",
    "\n",
    "marseille = df[df.city=='Marseille'].iloc[0]\n",
    "paris = df[df.city=='Paris'].iloc[0]\n",
    "\n",
    "def compute_distance_on_globe(lat1, lon1, lat2, lon2):\n",
    "\n",
    "    # Approximate radius of earth in km\n",
    "    R = 6373.0\n",
    "\n",
    "    dlon = lon2 - lon1\n",
    "    dlat = lat2 - lat1\n",
    "\n",
    "    a = sin(dlat / 2)**2 + cos(lat1) * cos(lat2) * sin(dlon / 2)**2\n",
    "    c = 2 * atan2(sqrt(a), sqrt(1 - a))\n",
    "\n",
    "    distance = R * c\n",
    "    \n",
    "    return distance\n",
    "\n",
    "\n",
    "########## CONVERSION DEGRÉS VERS RADIANS \n",
    "########## : fois Pi puis divisé par 180\n",
    "lat1 = marseille.lat * pi / 180\n",
    "lon1 = marseille.lng  * pi / 180\n",
    "\n",
    "lat2 = paris.lat * pi / 180\n",
    "lon2 = paris.lng * pi / 180\n",
    "\n",
    "distance = compute_distance_on_globe(lat1, lon1, lat2, lon2)\n",
    "\n",
    "print(f\"Distance Paris à Marseille: {round(distance, 2)} km\")"
   ]
  },
  {
   "cell_type": "markdown",
   "id": "4a680a10",
   "metadata": {},
   "source": [
    "### Question 5.a & 6.a"
   ]
  },
  {
   "cell_type": "code",
   "execution_count": 37,
   "id": "c0aa3423",
   "metadata": {},
   "outputs": [
    {
     "data": {
      "text/plain": [
       "0        39105000.0\n",
       "1        35362000.0\n",
       "2        31870000.0\n",
       "3        23971000.0\n",
       "4        22495000.0\n",
       "            ...    \n",
       "42900          10.0\n",
       "42901          10.0\n",
       "42902          10.0\n",
       "42903          10.0\n",
       "42904           0.0\n",
       "Name: population, Length: 42905, dtype: float64"
      ]
     },
     "execution_count": 37,
     "metadata": {},
     "output_type": "execute_result"
    }
   ],
   "source": [
    "# Float !!\n",
    "df.population"
   ]
  },
  {
   "cell_type": "code",
   "execution_count": 38,
   "id": "a5ac4879",
   "metadata": {},
   "outputs": [
    {
     "name": "stdout",
     "output_type": "stream",
     "text": [
      "0\n",
      "2\n",
      "3\n",
      "3\n",
      "8\n",
      "12\n"
     ]
    }
   ],
   "source": [
    "print(249_999 // 250_000)\n",
    "print(500_001 // 250_000)\n",
    "print(750_004 // 250_000)\n",
    "print(784_564 // 250_000)\n",
    "print(2_000_156 // 250_000)\n",
    "print(3_000_156 // 250_000)"
   ]
  },
  {
   "cell_type": "code",
   "execution_count": 39,
   "id": "8c8fb1de",
   "metadata": {},
   "outputs": [
    {
     "name": "stdout",
     "output_type": "stream",
     "text": [
      "population_group\n",
      "0.0    39892\n",
      "1.0      997\n",
      "2.0      408\n",
      "8.0      381\n",
      "3.0      183\n",
      "4.0      149\n",
      "5.0       73\n",
      "6.0       57\n",
      "7.0       40\n",
      "Name: count, dtype: int64\n",
      "725\n",
      "725\n"
     ]
    },
    {
     "data": {
      "text/plain": [
       "population_group\n",
       "5.0     4220\n",
       "3.0     4220\n",
       "9.0     4219\n",
       "8.0     4218\n",
       "7.0     4218\n",
       "6.0     4218\n",
       "10.0    4217\n",
       "2.0     4217\n",
       "1.0     4217\n",
       "4.0     4216\n",
       "Name: count, dtype: int64"
      ]
     },
     "execution_count": 39,
     "metadata": {},
     "output_type": "execute_result"
    }
   ],
   "source": [
    "def get_population_group(pop):\n",
    "    if np.isnan(pop):\n",
    "        return np.nan\n",
    "    elif pop > 2_000_000:\n",
    "        return 8\n",
    "    return int(pop) // 250_000\n",
    "\n",
    "df[\"population_group\"] = df[\"population\"].map(get_population_group)\n",
    "print(df[\"population_group\"].value_counts())\n",
    "\n",
    "# Valeurs nulles\n",
    "print(df.population.isnull().sum())\n",
    "print(df.population.isna().sum())\n",
    "\n",
    "np.nanpercentile(df[\"population\"], 0)\n",
    "np.nanpercentile(df[\"population\"], 100)\n",
    "\n",
    "percentiles = [\n",
    "    np.nanpercentile(df[\"population\"], percent*10)\n",
    "    for percent in range(0, 11)\n",
    "]\n",
    "\n",
    "def get_population_group_2(pop, percentiles):\n",
    "    if np.isnan(pop):\n",
    "        return np.nan\n",
    "    \n",
    "    for group, p in enumerate(percentiles):\n",
    "        # Dans le pire des cas des cas\n",
    "        # le test réussi pour le dernier percentile car c'est le max\n",
    "        \n",
    "        # Une seule classe pour le min == 0 et le premier groupe\n",
    "        if pop >= p:\n",
    "            continue\n",
    "        else:\n",
    "            return group\n",
    "    \n",
    "    # Shouldnt be attained but as a security\n",
    "    return 9\n",
    "    \n",
    "df[\"population_group\"] = df[\"population\"].map(\n",
    "    lambda pop: get_population_group_2(pop, percentiles)\n",
    ")\n",
    "df[\"population_group\"].value_counts()"
   ]
  },
  {
   "cell_type": "code",
   "execution_count": 40,
   "id": "26a6cdf8",
   "metadata": {},
   "outputs": [
    {
     "data": {
      "text/plain": [
       "population_group\n",
       "5.0     4220\n",
       "3.0     4220\n",
       "9.0     4219\n",
       "8.0     4218\n",
       "7.0     4218\n",
       "6.0     4218\n",
       "10.0    4217\n",
       "2.0     4217\n",
       "1.0     4217\n",
       "4.0     4216\n",
       "Name: count, dtype: int64"
      ]
     },
     "execution_count": 40,
     "metadata": {},
     "output_type": "execute_result"
    }
   ],
   "source": [
    "df[\"population_group\"].value_counts()"
   ]
  },
  {
   "cell_type": "markdown",
   "id": "485fdc68",
   "metadata": {},
   "source": [
    "## 2. Régression linéaire simple : comparaison\n",
    "L'objectif est de comparer trois implémentations de la régression linéaire : \n",
    "- une en utilisant `sklearn` \n",
    "- une en utilisant `statsmodels` \n",
    "- l'une en calculant les coefficients \"à la main\" \n",
    "\n",
    "\n",
    "On a généré ci-dessous un nuage de points, on a représenté $Y$ en fonction de $X$.\n",
    "\n",
    "L'objectif de la régression linéaire simple sans intercepte est de trouver deux coefficients $a$ et $b$ tels que :\n",
    "\n",
    "$$ Y = ax  + err $$\n",
    "\n",
    "\n",
    "L'objectif de la régression linéaire simple avec intercepte est de trouver deux coefficients $a$ et $b$ tels que :\n",
    "\n",
    "$$ Y = ax + b + err $$\n",
    "\n",
    "\n",
    "1. Entraîner un modèle de régression linéaire entre $x$ et $y$ avec `scikit-learn`\n",
    "2. Entraîner un modèle de régression linéaire entre $x$ et $y$ avec `statsmodels` (on pourra s'aider de StackoVerflow)\n",
    "3. Entraîner un modèle de régression linéaire entre $x$ et $y$ en remarquant que le coefficient $a$ est égale à $\\frac{Cov(X, Y)}{Var(X}$ (on pourra chercher comment calculer la covariance et la variance en `pandas` ou `numpy`).\n",
    "4. Créer une colonne `y_pred` qui contient les prédictions pour toutes les données à disposition"
   ]
  },
  {
   "cell_type": "code",
   "execution_count": 41,
   "id": "40383275",
   "metadata": {},
   "outputs": [
    {
     "data": {
      "text/plain": [
       "<matplotlib.collections.PathCollection at 0x132200c10>"
      ]
     },
     "execution_count": 41,
     "metadata": {},
     "output_type": "execute_result"
    },
    {
     "data": {
      "image/png": "[encoded data removed]",
      "text/plain": [
       "<Figure size 1000x400 with 1 Axes>"
      ]
     },
     "metadata": {},
     "output_type": "display_data"
    }
   ],
   "source": [
    "import numpy as np\n",
    "import matplotlib.pyplot as plt\n",
    "\n",
    "\n",
    "N_OBS = 1000\n",
    "A = 4\n",
    "B = 12\n",
    "\n",
    "x = np.random.randn(1000)  # 4 lignes, 2 colonnes\n",
    "errors = np.random.randn(1000) \n",
    "y = A*x + B + errors\n",
    "\n",
    "plt.figure(figsize=(10, 4))\n",
    "plt.scatter(x, y)\n",
    "plt.scatter(x, A*x + B, color=\"red\")"
   ]
  },
  {
   "cell_type": "markdown",
   "id": "aea3ccb2",
   "metadata": {},
   "source": [
    "## Question 1"
   ]
  },
  {
   "cell_type": "markdown",
   "id": "790c088a",
   "metadata": {},
   "source": [
    "### On a Y = a*X\n"
   ]
  },
  {
   "cell_type": "code",
   "execution_count": 6,
   "id": "38f507f6",
   "metadata": {},
   "outputs": [],
   "source": [
    "import pandas as pd\n",
    "import numpy as np\n",
    "import matplotlib.pyplot as plt"
   ]
  },
  {
   "cell_type": "code",
   "execution_count": 28,
   "id": "3fdfd47f",
   "metadata": {},
   "outputs": [
    {
     "data": {
      "image/png": "[encoded data removed]",
      "text/plain": [
       "<Figure size 640x480 with 1 Axes>"
      ]
     },
     "metadata": {},
     "output_type": "display_data"
    },
    {
     "name": "stdout",
     "output_type": "stream",
     "text": [
      "[10.02422654]\n"
     ]
    },
    {
     "data": {
      "text/plain": [
       "[<matplotlib.lines.Line2D at 0x1366445d0>]"
      ]
     },
     "execution_count": 28,
     "metadata": {},
     "output_type": "execute_result"
    },
    {
     "data": {
      "image/png": "[encoded data removed]",
      "text/plain": [
       "<Figure size 640x480 with 1 Axes>"
      ]
     },
     "metadata": {},
     "output_type": "display_data"
    }
   ],
   "source": [
    "from sklearn.linear_model import LinearRegression\n",
    "\n",
    "\n",
    "X =  pd.Series(np.random.randn(100_000)) \n",
    "errors = np.random.randn(100_000) * 4\n",
    "Y = 10 * X + errors\n",
    "\n",
    "# Des valeurs aléatoires (qui peuvent être arbitrairement grandes ou petites)\n",
    "# Mais dont l'immense majorité sera entre -4 et 4\n",
    "plt.hist(X, bins=100)\n",
    "plt.title(\"Histogramme des X\")\n",
    "plt.show()\n",
    "\n",
    "\n",
    "# On crée une instance de modèle\n",
    "lr = LinearRegression(fit_intercept=False)\n",
    "# le premier argument soit les X avec les quels on apprend (dans une DataFrame)\n",
    "# le deuxieme argument de la \"TARGET\" (ie ce qu'on veut prédire) \n",
    "# X.to_frame() -> pour avoir quelque chose de bi-dimensionnel\n",
    "lr.fit(X.to_frame(),Y)\n",
    "print(lr.coef_)\n",
    "predictions = lr.predict(X.to_frame())\n",
    "\n",
    "plt.scatter(X, Y)\n",
    "plt.title(\"Y en fonction de X\")\n",
    "plt.xlabel(\"X\")\n",
    "plt.ylabel(\"Y\")\n",
    "plt.plot(X, predictions, color=\"red\")"
   ]
  },
  {
   "cell_type": "markdown",
   "id": "042b1131",
   "metadata": {},
   "source": [
    "### On a Y = a*X + b\n",
    "- L'intercept est la valeur `b`  (FR : ordonnée à l'origine)"
   ]
  },
  {
   "cell_type": "code",
   "execution_count": 9,
   "id": "83b507dd",
   "metadata": {},
   "outputs": [
    {
     "name": "stdout",
     "output_type": "stream",
     "text": [
      "[10.0081904] 139.98289312326958\n"
     ]
    },
    {
     "data": {
      "image/png": "[encoded data removed]",
      "text/plain": [
       "<Figure size 640x480 with 1 Axes>"
      ]
     },
     "metadata": {},
     "output_type": "display_data"
    }
   ],
   "source": [
    "X =  pd.Series(np.random.randn(100_000)) \n",
    "errors = np.random.randn(100_000) * 4\n",
    "Y = 10*X + 140 + errors\n",
    "\n",
    "# On crée une instance de modèle AVEC UN INTERCEPT\n",
    "lr = LinearRegression(fit_intercept=True)\n",
    "\n",
    "lr.fit(X.to_frame(),Y)\n",
    "predictions = lr.predict(X.to_frame())\n",
    "\n",
    "plt.scatter(X, Y)\n",
    "plt.title(\"Y en fonction de X\")\n",
    "plt.xlim(-5, 5)\n",
    "plt.ylim(0, 200)\n",
    "plt.xlabel(\"X\")\n",
    "plt.ylabel(\"Y\")\n",
    "plt.plot(X, predictions, color=\"red\")\n",
    "\n",
    "print(lr.coef_, lr.intercept_)"
   ]
  },
  {
   "cell_type": "markdown",
   "id": "136ebed5",
   "metadata": {},
   "source": [
    "**Une prédiction individuelle**"
   ]
  },
  {
   "cell_type": "code",
   "execution_count": 10,
   "id": "7e535ac6",
   "metadata": {},
   "outputs": [
    {
     "data": {
      "text/plain": [
       "<matplotlib.lines.Line2D at 0x135da8a10>"
      ]
     },
     "execution_count": 10,
     "metadata": {},
     "output_type": "execute_result"
    },
    {
     "data": {
      "image/png": "[encoded data removed]",
      "text/plain": [
       "<Figure size 640x480 with 1 Axes>"
      ]
     },
     "metadata": {},
     "output_type": "display_data"
    }
   ],
   "source": [
    "x = 3\n",
    "prediction = lr.predict([[x]])\n",
    "\n",
    "plt.scatter(X, Y)\n",
    "plt.title(\"Y en fonction de X\")\n",
    "plt.xlim(-5, 5)\n",
    "plt.ylim(0, 200)\n",
    "plt.xlabel(\"X\")\n",
    "plt.ylabel(\"Y\")\n",
    "plt.plot(X, predictions, color=\"red\")\n",
    "\n",
    "# Where is the prediction ?\n",
    "plt.axvline(x, color=\"yellow\")\n",
    "plt.axhline(prediction, color=\"yellow\")"
   ]
  },
  {
   "cell_type": "markdown",
   "id": "d286ed09",
   "metadata": {},
   "source": [
    "## Question 2\n",
    "### On va fiter un modèle de la forme $Y=aX$"
   ]
  },
  {
   "cell_type": "code",
   "execution_count": 29,
   "id": "cc5984a2",
   "metadata": {},
   "outputs": [
    {
     "name": "stdout",
     "output_type": "stream",
     "text": [
      "0    10.002519\n",
      "dtype: float64\n",
      "[10.00251867]\n"
     ]
    }
   ],
   "source": [
    "#### On génère les données\n",
    "\n",
    "\n",
    "X =  pd.Series(np.random.randn(100_000)) \n",
    "errors = np.random.randn(100_000) * 4\n",
    "Y = 10*X + errors\n",
    "\n",
    "\n",
    "#### On fit un modèle avec statsmodel\n",
    "\n",
    "import statsmodels.api as sm\n",
    "model = sm.OLS(Y, X.to_frame())\n",
    "results = model.fit()\n",
    "print(results.params) # comme l'attribut coef_ dan scikit-learn)\n",
    "\n",
    "\n",
    "# On crée une instance de modèle AVEC UN INTERCEPT\n",
    "lr = LinearRegression(fit_intercept=False)\n",
    "lr.fit(X.to_frame(),Y)\n",
    "print(lr.coef_)"
   ]
  },
  {
   "cell_type": "code",
   "execution_count": 35,
   "id": "6d46849a",
   "metadata": {},
   "outputs": [
    {
     "data": {
      "text/html": [
       "<div>\n",
       "<style scoped>\n",
       "    .dataframe tbody tr th:only-of-type {\n",
       "        vertical-align: middle;\n",
       "    }\n",
       "\n",
       "    .dataframe tbody tr th {\n",
       "        vertical-align: top;\n",
       "    }\n",
       "\n",
       "    .dataframe thead th {\n",
       "        text-align: right;\n",
       "    }\n",
       "</style>\n",
       "<table border=\"1\" class=\"dataframe\">\n",
       "  <thead>\n",
       "    <tr style=\"text-align: right;\">\n",
       "      <th></th>\n",
       "      <th>const</th>\n",
       "      <th>0</th>\n",
       "    </tr>\n",
       "  </thead>\n",
       "  <tbody>\n",
       "    <tr>\n",
       "      <th>0</th>\n",
       "      <td>1.0</td>\n",
       "      <td>-0.526533</td>\n",
       "    </tr>\n",
       "    <tr>\n",
       "      <th>1</th>\n",
       "      <td>1.0</td>\n",
       "      <td>0.429716</td>\n",
       "    </tr>\n",
       "    <tr>\n",
       "      <th>2</th>\n",
       "      <td>1.0</td>\n",
       "      <td>-1.007615</td>\n",
       "    </tr>\n",
       "    <tr>\n",
       "      <th>3</th>\n",
       "      <td>1.0</td>\n",
       "      <td>2.438142</td>\n",
       "    </tr>\n",
       "    <tr>\n",
       "      <th>4</th>\n",
       "      <td>1.0</td>\n",
       "      <td>0.874946</td>\n",
       "    </tr>\n",
       "    <tr>\n",
       "      <th>...</th>\n",
       "      <td>...</td>\n",
       "      <td>...</td>\n",
       "    </tr>\n",
       "    <tr>\n",
       "      <th>99995</th>\n",
       "      <td>1.0</td>\n",
       "      <td>-0.229622</td>\n",
       "    </tr>\n",
       "    <tr>\n",
       "      <th>99996</th>\n",
       "      <td>1.0</td>\n",
       "      <td>-0.890470</td>\n",
       "    </tr>\n",
       "    <tr>\n",
       "      <th>99997</th>\n",
       "      <td>1.0</td>\n",
       "      <td>0.520596</td>\n",
       "    </tr>\n",
       "    <tr>\n",
       "      <th>99998</th>\n",
       "      <td>1.0</td>\n",
       "      <td>0.845468</td>\n",
       "    </tr>\n",
       "    <tr>\n",
       "      <th>99999</th>\n",
       "      <td>1.0</td>\n",
       "      <td>0.837569</td>\n",
       "    </tr>\n",
       "  </tbody>\n",
       "</table>\n",
       "<p>100000 rows × 2 columns</p>\n",
       "</div>"
      ],
      "text/plain": [
       "       const         0\n",
       "0        1.0 -0.526533\n",
       "1        1.0  0.429716\n",
       "2        1.0 -1.007615\n",
       "3        1.0  2.438142\n",
       "4        1.0  0.874946\n",
       "...      ...       ...\n",
       "99995    1.0 -0.229622\n",
       "99996    1.0 -0.890470\n",
       "99997    1.0  0.520596\n",
       "99998    1.0  0.845468\n",
       "99999    1.0  0.837569\n",
       "\n",
       "[100000 rows x 2 columns]"
      ]
     },
     "execution_count": 35,
     "metadata": {},
     "output_type": "execute_result"
    }
   ],
   "source": [
    "# X.to_frame(), \n",
    "sm.add_constant(X)"
   ]
  },
  {
   "cell_type": "markdown",
   "id": "2d400d21",
   "metadata": {},
   "source": [
    "$Y = a \\times x + b \\times 1 = ax + b$"
   ]
  },
  {
   "cell_type": "code",
   "execution_count": 30,
   "id": "eb511a83",
   "metadata": {},
   "outputs": [
    {
     "name": "stdout",
     "output_type": "stream",
     "text": [
      "const     4.008154\n",
      "0        10.003691\n",
      "dtype: float64\n",
      "4.008153851390235 [10.00369116]\n"
     ]
    }
   ],
   "source": [
    "#### On génère les données\n",
    "X =  pd.Series(np.random.randn(100_000)) \n",
    "errors = np.random.randn(100_000) * 4\n",
    "Y = 10*X  + 4 + errors\n",
    "\n",
    "#### On fit un modèle avec statsmodel\n",
    "X_with_constant = sm.add_constant(X)\n",
    "X_with_constant.columns = X_with_constant.columns.map(str)\n",
    "model = sm.OLS(Y, X_with_constant)\n",
    "results = model.fit()\n",
    "print(results.params)\n",
    "\n",
    "#X_with_constant.apply(\n",
    "#    lambda r: results.params['const']*r['const'] + results.params[0]*r[0],\n",
    "#    axis=1 \n",
    "#)\n",
    "\n",
    "#### On fit un modèle avec sklearn\n",
    "lr = LinearRegression(fit_intercept=True)\n",
    "lr.fit(X.to_frame(),Y)\n",
    "print(lr.intercept_, lr.coef_)"
   ]
  },
  {
   "cell_type": "markdown",
   "id": "bf947747",
   "metadata": {},
   "source": [
    "### Question 3"
   ]
  },
  {
   "cell_type": "markdown",
   "id": "e5f78051",
   "metadata": {},
   "source": [
    "$a = \\frac{Cov(X, Y)}{\\sqrt{Var(X)}}$"
   ]
  },
  {
   "cell_type": "code",
   "execution_count": 41,
   "id": "6851cbf6",
   "metadata": {},
   "outputs": [],
   "source": [
    "X =  pd.Series(np.random.randn(100_000)) \n",
    "Y = 10*X  +  np.random.randn(100_000) * 4"
   ]
  },
  {
   "cell_type": "code",
   "execution_count": 42,
   "id": "bd699e2a",
   "metadata": {},
   "outputs": [
    {
     "data": {
      "text/plain": [
       "array([[  0.99636463,   9.96657898],\n",
       "       [  9.96657898, 115.5905125 ]])"
      ]
     },
     "execution_count": 42,
     "metadata": {},
     "output_type": "execute_result"
    }
   ],
   "source": [
    "### Avec la formule (dans le cas $Y=aX$ ie sans intercept et avec un seul X)\n",
    "\n",
    "# Matrice de Covariance \n",
    "np.cov(X, Y)\n",
    "#[\n",
    "#    \n",
    "#    [Cov(X, X), Cov(X, Y)],\n",
    "#    [Cov(Y, X), Cov(Y, Y)]\n",
    "#]"
   ]
  },
  {
   "cell_type": "code",
   "execution_count": 43,
   "id": "e1bbe372",
   "metadata": {},
   "outputs": [
    {
     "name": "stdout",
     "output_type": "stream",
     "text": [
      "9.984794527673628\n"
     ]
    }
   ],
   "source": [
    "cov_x_y = np.cov(X, Y)[0][1] \n",
    "var_x = np.var(X)\n",
    "\n",
    "a = cov_x_y / np.sqrt(var_x)\n",
    "print(a)"
   ]
  },
  {
   "cell_type": "markdown",
   "id": "66f5fc25",
   "metadata": {},
   "source": [
    "### Question 4"
   ]
  },
  {
   "cell_type": "code",
   "execution_count": 23,
   "id": "14ab5775",
   "metadata": {},
   "outputs": [],
   "source": [
    "y_pred = [a * x for x in X.values]"
   ]
  },
  {
   "cell_type": "code",
   "execution_count": 24,
   "id": "cd0f693a",
   "metadata": {},
   "outputs": [
    {
     "data": {
      "text/plain": [
       "[<matplotlib.lines.Line2D at 0x1373d9890>]"
      ]
     },
     "execution_count": 24,
     "metadata": {},
     "output_type": "execute_result"
    },
    {
     "data": {
      "image/png": "[encoded data removed]",
      "text/plain": [
       "<Figure size 640x480 with 1 Axes>"
      ]
     },
     "metadata": {},
     "output_type": "display_data"
    }
   ],
   "source": [
    "plt.scatter(X, Y)\n",
    "plt.title(\"Y en fonction de X\")\n",
    "plt.xlabel(\"X\")\n",
    "plt.ylabel(\"Y\")\n",
    "plt.plot(X, y_pred, color=\"red\")"
   ]
  },
  {
   "cell_type": "code",
   "execution_count": null,
   "id": "2e6712c7",
   "metadata": {},
   "outputs": [],
   "source": []
  },
  {
   "cell_type": "code",
   "execution_count": null,
   "id": "2b852669",
   "metadata": {},
   "outputs": [],
   "source": []
  },
  {
   "cell_type": "markdown",
   "id": "fc77ae78",
   "metadata": {},
   "source": [
    "# Drafts exercice 2"
   ]
  },
  {
   "cell_type": "code",
   "execution_count": null,
   "id": "b399419e",
   "metadata": {},
   "outputs": [],
   "source": [
    "from sklearn.linear_model import LinearRegression\n",
    "\n",
    "\n",
    "# ValueError: Expected 2D array, got 1D array instead:\n",
    "\n",
    "# Car x_example n'est pas une liste de liste\n",
    "\n",
    "\n",
    "x_example = [\n",
    "    1,\n",
    "    2,\n",
    "    3,\n",
    "    4\n",
    "]\n",
    "y_example = [\n",
    "    1,\n",
    "    3,\n",
    "    5,\n",
    "    7\n",
    "]\n",
    "lr = LinearRegression()\n",
    "\n",
    "\n",
    "try:\n",
    "    lr.fit(x_example, y_example)\n",
    "except Exception as e:\n",
    "    print(e)\n",
    "\n",
    "x_example = [\n",
    "    [1],\n",
    "    [2],\n",
    "    [3],\n",
    "    [4]\n",
    "]\n",
    "y_example = [\n",
    "    1,\n",
    "    3,\n",
    "    5,\n",
    "    7\n",
    "]\n",
    "lr.fit(x_example, y_example)\n",
    "\n",
    "\n",
    "\n",
    "\n",
    "\n",
    "\n",
    "from sklearn.linear_model import LinearRegression\n",
    "\n",
    "# Solution 1\n",
    "x_reshaped = x.reshape(-1, 1)\n",
    "\n",
    "# Solution 2\n",
    "## x (numpy array) -> pd.Series(x) (Serie en pandas : 1D) \n",
    "## -> .to_frame() (Dataframe en pandas : 2D)\n",
    "\n",
    "import pandas as pd\n",
    "\n",
    "\n",
    "x_reshaped_2 = pd.Series(x).to_frame()\n",
    "\n",
    "# Fit_intercept=False pour calibrer y = ax\n",
    "lr_without_intercept = LinearRegression(fit_intercept=False)\n",
    "lr_without_intercept.fit(x_reshaped_2, y)\n",
    "print(lr_without_intercept.coef_)\n",
    "\n",
    "# Fit_intercept=True pour calibrer y = ax + b\n",
    "lr_with_intercept = LinearRegression(fit_intercept=True)\n",
    "lr_with_intercept.fit(x_reshaped_2, y)\n",
    "print(lr_with_intercept.coef_, lr_with_intercept.intercept_)\n",
    "\n",
    "\n",
    "\n",
    "\n",
    "plt.figure(figsize=(10, 4))\n",
    "plt.scatter(x, y)\n",
    "plt.scatter(x, A*x + B, color=\"red\")\n",
    "\n",
    "pred_without_intercept = lr_without_intercept.predict(x_reshaped_2)\n",
    "pred_with_intercept = lr_with_intercept.predict(x_reshaped_2)\n",
    "\n",
    "\n",
    "# Prédiction tout le temps décalée vers le bas de 12\n",
    "plt.plot(x, pred_without_intercept, color=\"green\")\n",
    "# Prédiction très décente car on a bien un intercept\n",
    "plt.plot(x, pred_with_intercept, color=\"yellow\")"
   ]
  }
 ],
 "metadata": {
  "kernelspec": {
   "display_name": "env_specific_name",
   "language": "python",
   "name": "env_specific_name"
  },
  "language_info": {
   "codemirror_mode": {
    "name": "ipython",
    "version": 3
   },
   "file_extension": ".py",
   "mimetype": "text/x-python",
   "name": "python",
   "nbconvert_exporter": "python",
   "pygments_lexer": "ipython3",
   "version": "3.11.4"
  }
 },
 "nbformat": 4,
 "nbformat_minor": 5
}
